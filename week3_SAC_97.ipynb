{
 "cells": [
  {
   "cell_type": "markdown",
   "id": "4c97dc84",
   "metadata": {},
   "source": []
  },
  {
   "cell_type": "code",
   "execution_count": null,
   "id": "2a2af516",
   "metadata": {},
   "outputs": [],
   "source": []
  },
  {
   "cell_type": "code",
   "execution_count": 4,
   "id": "66bac0a0",
   "metadata": {},
   "outputs": [
    {
     "name": "stdout",
     "output_type": "stream",
     "text": [
      "enter the value of a:2\n",
      "enter the value of b:3\n",
      "23\n"
     ]
    }
   ],
   "source": [
    "a=input(\"enter the value of a:\")\n",
    "b=input(\"enter the value of b:\")\n",
    "\n",
    "print(a+b)"
   ]
  },
  {
   "cell_type": "code",
   "execution_count": 5,
   "id": "04b9ad9b",
   "metadata": {},
   "outputs": [
    {
     "name": "stdout",
     "output_type": "stream",
     "text": [
      "enter the value of a:2\n",
      "enter the value of b:3\n",
      "5\n"
     ]
    }
   ],
   "source": [
    "a=int(input(\"enter the value of a:\"))\n",
    "b=int(input(\"enter the value of b:\"))\n",
    "\n",
    "print(a+b)"
   ]
  },
  {
   "cell_type": "code",
   "execution_count": 6,
   "id": "f20223f9",
   "metadata": {},
   "outputs": [
    {
     "name": "stdout",
     "output_type": "stream",
     "text": [
      "what is your passion?ethical hacking\n",
      "ethical hacking is my passion\n"
     ]
    }
   ],
   "source": [
    "passion=input(\"what is your passion?\")\n",
    "print(\"{0} is my passion\". format(passion))"
   ]
  },
  {
   "cell_type": "code",
   "execution_count": 7,
   "id": "43a18745",
   "metadata": {},
   "outputs": [
    {
     "name": "stdout",
     "output_type": "stream",
     "text": [
      "enter your name:VED\n",
      "enter your roll number:97\n",
      "i am VED and my roll no is 97\n"
     ]
    }
   ],
   "source": [
    "name=input(\"enter your name:\")\n",
    "roll_no=input(\"enter your roll number:\")\n",
    "print(\"i am {0} and my roll no is {1}\".format(name,roll_no))"
   ]
  },
  {
   "cell_type": "code",
   "execution_count": 8,
   "id": "ac55982b",
   "metadata": {},
   "outputs": [
    {
     "name": "stdout",
     "output_type": "stream",
     "text": [
      "The value of a is 10 and the value of b is 20\n",
      "The value of a is 20 and the value of b is 10\n"
     ]
    }
   ],
   "source": [
    "#positional change of indexs of arguments\n",
    "a=10\n",
    "b=20\n",
    "print(\"The value of a is {0} and the value of b is {1}\".format(a,b))\n",
    "print(\"The value of a is {1} and the value of b is {0}\".format(a,b))"
   ]
  },
  {
   "cell_type": "code",
   "execution_count": 11,
   "id": "f3d0aa65",
   "metadata": {},
   "outputs": [
    {
     "name": "stdout",
     "output_type": "stream",
     "text": [
      "You can do the impossible. Never ever give up.\n"
     ]
    }
   ],
   "source": [
    "print(\"You can do the {a}. {b}\". format(a=\"impossible\",b=\"Never ever give up.\"))"
   ]
  },
  {
   "cell_type": "code",
   "execution_count": 15,
   "id": "c50921a7",
   "metadata": {},
   "outputs": [
    {
     "name": "stdout",
     "output_type": "stream",
     "text": [
      "addition of 20 and 30 is 50\n"
     ]
    }
   ],
   "source": [
    "a=20\n",
    "b=30\n",
    "print(f\"addition of {a} and {b} is {a+b}\")"
   ]
  },
  {
   "cell_type": "code",
   "execution_count": 19,
   "id": "47d0de3c",
   "metadata": {},
   "outputs": [
    {
     "name": "stdout",
     "output_type": "stream",
     "text": [
      "enter the radius of the circle2\n",
      "the area of the circle is 12.566\n",
      "the circumference if circle is 12.566\n"
     ]
    }
   ],
   "source": [
    "radius=int(input(\"enter the radius of the circle\"))\n",
    "area_of_circle=3.1415*radius*radius\n",
    "circumference=2*3.1415*radius\n",
    "print(f\"the area of the circle is {area_of_circle}\")\n",
    "print(f\"the circumference if circle is {circumference}\")"
   ]
  },
  {
   "cell_type": "code",
   "execution_count": 20,
   "id": "35e189e0",
   "metadata": {},
   "outputs": [
    {
     "name": "stdout",
     "output_type": "stream",
     "text": [
      "enter your birth year:2006\n",
      "you are 19 years old\n"
     ]
    }
   ],
   "source": [
    "birth_year=int(input(\"enter your birth year:\"))\n",
    "current_year=2025\n",
    "age=current_year-birth_year\n",
    "print(f\"you are {age} years old\")"
   ]
  },
  {
   "cell_type": "code",
   "execution_count": 25,
   "id": "d8f28ab7",
   "metadata": {},
   "outputs": [
    {
     "name": "stdout",
     "output_type": "stream",
     "text": [
      "enter your cgpa:8.5\n",
      "Good in acadamics\n"
     ]
    }
   ],
   "source": [
    "cgpa=float(input(\"enter your cgpa:\"))\n",
    "if cgpa>9.2:\n",
    "    print(\"Topper\")\n",
    "elif cgpa>8 and cgpa<9.2:\n",
    "    print(\"Good in acadamics\")\n",
    "else:\n",
    "    print(\"Work hard\")"
   ]
  },
  {
   "cell_type": "code",
   "execution_count": 39,
   "id": "7c7eef36",
   "metadata": {},
   "outputs": [
    {
     "name": "stdout",
     "output_type": "stream",
     "text": [
      "enter your marks:100\n",
      "enter the marks obtained:74\n",
      "Exact percentage:74.0%\n",
      "whole percentage:74\n"
     ]
    }
   ],
   "source": [
    "total_marks=int(input(\"enter your marks:\"))\n",
    "marks_obtained=int(input(\"enter the marks obtained:\"))\n",
    "\n",
    "percentage=(marks_obtained/total_marks)*100\n",
    "whole_percentage=int(percentage)\n",
    "\n",
    "print(f\"Exact percentage:{percentage}%\")\n",
    "print(f\"whole percentage:{whole_percentage}\")"
   ]
  },
  {
   "cell_type": "code",
   "execution_count": 27,
   "id": "4a3af3a0",
   "metadata": {},
   "outputs": [
    {
     "ename": "TypeError",
     "evalue": "can only concatenate str (not \"int\") to str",
     "output_type": "error",
     "traceback": [
      "\u001b[1;31m---------------------------------------------------------------------------\u001b[0m",
      "\u001b[1;31mTypeError\u001b[0m                                 Traceback (most recent call last)",
      "Cell \u001b[1;32mIn[27], line 2\u001b[0m\n\u001b[0;32m      1\u001b[0m age\u001b[38;5;241m=\u001b[39m\u001b[38;5;241m25\u001b[39m\n\u001b[1;32m----> 2\u001b[0m \u001b[38;5;28mprint\u001b[39m(\u001b[38;5;124m\"\u001b[39m\u001b[38;5;124mI am \u001b[39m\u001b[38;5;124m\"\u001b[39m\u001b[38;5;241m+\u001b[39mage\u001b[38;5;241m+\u001b[39m\u001b[38;5;124m\"\u001b[39m\u001b[38;5;124myears old\u001b[39m\u001b[38;5;124m\"\u001b[39m)\n",
      "\u001b[1;31mTypeError\u001b[0m: can only concatenate str (not \"int\") to str"
     ]
    }
   ],
   "source": [
    "age=25\n",
    "print(\"I am \"+age+\"years old\")"
   ]
  },
  {
   "cell_type": "code",
   "execution_count": 30,
   "id": "5bda24e1",
   "metadata": {},
   "outputs": [
    {
     "name": "stdout",
     "output_type": "stream",
     "text": [
      "I am 25 years old\n"
     ]
    }
   ],
   "source": [
    "age=25\n",
    "print(\"I am \"+str(age)+\" years old\")"
   ]
  },
  {
   "cell_type": "code",
   "execution_count": 34,
   "id": "95e9fd67",
   "metadata": {},
   "outputs": [
    {
     "name": "stdout",
     "output_type": "stream",
     "text": [
      "Enter an integer between 0 and 25595\n",
      "The ASII character for 95 is :_\n"
     ]
    }
   ],
   "source": [
    "num=int(input(\"Enter an integer between 0 and 255\"))\n",
    "char=chr(num)\n",
    "print(f\"The ASII character for {num} is :{char}\")"
   ]
  },
  {
   "cell_type": "code",
   "execution_count": 35,
   "id": "6e9951ad",
   "metadata": {},
   "outputs": [
    {
     "name": "stdout",
     "output_type": "stream",
     "text": [
      "Complex number (real+imag): (3+4j)\n"
     ]
    }
   ],
   "source": [
    "c1=complex(3,4)\n",
    "print(\"Complex number (real+imag):\",c1)"
   ]
  },
  {
   "cell_type": "code",
   "execution_count": null,
   "id": "cb7bbb20",
   "metadata": {},
   "outputs": [],
   "source": []
  },
  {
   "cell_type": "code",
   "execution_count": null,
   "id": "449a4c77",
   "metadata": {},
   "outputs": [],
   "source": []
  }
 ],
 "metadata": {
  "kernelspec": {
   "display_name": "Python 3 (ipykernel)",
   "language": "python",
   "name": "python3"
  },
  "language_info": {
   "codemirror_mode": {
    "name": "ipython",
    "version": 3
   },
   "file_extension": ".py",
   "mimetype": "text/x-python",
   "name": "python",
   "nbconvert_exporter": "python",
   "pygments_lexer": "ipython3",
   "version": "3.11.4"
  }
 },
 "nbformat": 4,
 "nbformat_minor": 5
}
