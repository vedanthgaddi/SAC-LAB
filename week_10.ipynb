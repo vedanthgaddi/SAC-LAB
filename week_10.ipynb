{
 "cells": [
  {
   "cell_type": "code",
   "execution_count": 2,
   "id": "bc6cac47",
   "metadata": {},
   "outputs": [],
   "source": [
    "import numpy as np"
   ]
  },
  {
   "cell_type": "code",
   "execution_count": 3,
   "id": "2e6fb2c5",
   "metadata": {},
   "outputs": [
    {
     "data": {
      "text/plain": [
       "'1.26.2'"
      ]
     },
     "execution_count": 3,
     "metadata": {},
     "output_type": "execute_result"
    }
   ],
   "source": [
    "np.__version__"
   ]
  },
  {
   "cell_type": "markdown",
   "id": "b522c483",
   "metadata": {},
   "source": [
    "array1=np.array([1,2,3])"
   ]
  },
  {
   "cell_type": "code",
   "execution_count": 4,
   "id": "32e51bcb",
   "metadata": {},
   "outputs": [
    {
     "data": {
      "text/plain": [
       "array([1, 2, 3])"
      ]
     },
     "execution_count": 4,
     "metadata": {},
     "output_type": "execute_result"
    }
   ],
   "source": [
    "array1=np.array([1,2,3])\n",
    "array1"
   ]
  },
  {
   "cell_type": "code",
   "execution_count": 5,
   "id": "3f6451ca",
   "metadata": {},
   "outputs": [
    {
     "data": {
      "text/plain": [
       "array([[1, 2],\n",
       "       [3, 4]])"
      ]
     },
     "execution_count": 5,
     "metadata": {},
     "output_type": "execute_result"
    }
   ],
   "source": [
    "array2=np.array([[1,2],\n",
    "               [3,4]])\n",
    "array2"
   ]
  },
  {
   "cell_type": "code",
   "execution_count": 6,
   "id": "8c3058f6",
   "metadata": {},
   "outputs": [
    {
     "data": {
      "text/plain": [
       "array([[[1, 2],\n",
       "        [3, 4]],\n",
       "\n",
       "       [[5, 6],\n",
       "        [7, 8]]])"
      ]
     },
     "execution_count": 6,
     "metadata": {},
     "output_type": "execute_result"
    }
   ],
   "source": [
    "array3d=np.array([[\n",
    "                  [1,2],\n",
    "                  [3,4]\n",
    "                 ],\n",
    "                 [\n",
    "                 [5,6],\n",
    "                 [7,8]\n",
    "                 ]\n",
    "                 ])\n",
    "array3d"
   ]
  },
  {
   "cell_type": "code",
   "execution_count": 7,
   "id": "77aea1f2",
   "metadata": {},
   "outputs": [
    {
     "data": {
      "text/plain": [
       "(2, 2, 2)"
      ]
     },
     "execution_count": 7,
     "metadata": {},
     "output_type": "execute_result"
    }
   ],
   "source": [
    "array3d.shape\n"
   ]
  },
  {
   "cell_type": "code",
   "execution_count": 8,
   "id": "9b254791",
   "metadata": {},
   "outputs": [
    {
     "data": {
      "text/plain": [
       "array([[[ 1,  2,  3],\n",
       "        [ 4,  5,  6],\n",
       "        [ 7,  8,  9]],\n",
       "\n",
       "       [[10, 11, 12],\n",
       "        [13, 14, 15],\n",
       "        [16, 17, 18]]])"
      ]
     },
     "execution_count": 8,
     "metadata": {},
     "output_type": "execute_result"
    }
   ],
   "source": [
    "array3ex=np.array([\n",
    "                  [\n",
    "                  [1,2,3],\n",
    "                  [4,5,6],\n",
    "                  [7,8,9]\n",
    "                  ],\n",
    "                  [\n",
    "                   [10,11,12],\n",
    "                   [13,14,15],\n",
    "                   [16,17,18]   \n",
    "                  ]\n",
    "])\n",
    "array3ex"
   ]
  },
  {
   "cell_type": "code",
   "execution_count": 9,
   "id": "5ac5003e",
   "metadata": {},
   "outputs": [
    {
     "data": {
      "text/plain": [
       "(2, 3, 3)"
      ]
     },
     "execution_count": 9,
     "metadata": {},
     "output_type": "execute_result"
    }
   ],
   "source": [
    "array3ex.shape"
   ]
  },
  {
   "cell_type": "code",
   "execution_count": 10,
   "id": "1a370b31",
   "metadata": {},
   "outputs": [],
   "source": [
    "array4d=np.array([\n",
    "                 [\n",
    "                  [\n",
    "                   [1,2],\n",
    "                   [3,4],\n",
    "                   [5,6]   \n",
    "                  ],\n",
    "                    [\n",
    "                     [7,8],\n",
    "                     [9,10],\n",
    "                     [11,12]   \n",
    "                    ],\n",
    "                     [\n",
    "                      [13,14],\n",
    "                      [15,16],\n",
    "                      [17,18]   \n",
    "                     ]   \n",
    "                 ],\n",
    "                 \n",
    "                 [\n",
    "                  [\n",
    "                   [19,20],\n",
    "                   [21,22],\n",
    "                   [23,24]   \n",
    "                  ],\n",
    "                    [\n",
    "                     [25,26],\n",
    "                     [27,28],\n",
    "                     [29,30]   \n",
    "                    ],\n",
    "                     [\n",
    "                      [31,32],\n",
    "                      [33,34],\n",
    "                      [35,36]   \n",
    "                     ]   \n",
    "                 ]\n",
    "])\n",
    "                 \n",
    "                 "
   ]
  },
  {
   "cell_type": "code",
   "execution_count": 11,
   "id": "e4baebcc",
   "metadata": {},
   "outputs": [
    {
     "data": {
      "text/plain": [
       "array([[[[ 1,  2],\n",
       "         [ 3,  4],\n",
       "         [ 5,  6]],\n",
       "\n",
       "        [[ 7,  8],\n",
       "         [ 9, 10],\n",
       "         [11, 12]],\n",
       "\n",
       "        [[13, 14],\n",
       "         [15, 16],\n",
       "         [17, 18]]],\n",
       "\n",
       "\n",
       "       [[[19, 20],\n",
       "         [21, 22],\n",
       "         [23, 24]],\n",
       "\n",
       "        [[25, 26],\n",
       "         [27, 28],\n",
       "         [29, 30]],\n",
       "\n",
       "        [[31, 32],\n",
       "         [33, 34],\n",
       "         [35, 36]]]])"
      ]
     },
     "execution_count": 11,
     "metadata": {},
     "output_type": "execute_result"
    }
   ],
   "source": [
    "array4d"
   ]
  },
  {
   "cell_type": "code",
   "execution_count": 12,
   "id": "e906b376",
   "metadata": {},
   "outputs": [
    {
     "data": {
      "text/plain": [
       "array([12, 13, 14])"
      ]
     },
     "execution_count": 12,
     "metadata": {},
     "output_type": "execute_result"
    }
   ],
   "source": [
    "arrayex5=np.array((12,13,14))\n",
    "arrayex5"
   ]
  },
  {
   "cell_type": "code",
   "execution_count": 16,
   "id": "1f90338f",
   "metadata": {},
   "outputs": [
    {
     "name": "stdout",
     "output_type": "stream",
     "text": [
      "Array: [10 20 30 40 50]\n",
      "Mean: 30.0\n",
      "Standard Deviation: 14.14\n",
      "Maximun: 50\n",
      "Minimum: 10\n"
     ]
    }
   ],
   "source": [
    "arr = np.array([10,20,30,40,50])\n",
    "mean_val = np.mean(arr)\n",
    "std_dev = np.std(arr)\n",
    "max_val = np.max(arr)\n",
    "min_val = np.min(arr)\n",
    "print(\"Array:\", arr)\n",
    "print(\"Mean:\",mean_val)\n",
    "print(f\"Standard Deviation: {std_dev:.2f}\")\n",
    "print(\"Maximun:\", max_val)\n",
    "print(\"Minimum:\", min_val)"
   ]
  },
  {
   "cell_type": "code",
   "execution_count": 19,
   "id": "54920d16",
   "metadata": {},
   "outputs": [
    {
     "name": "stdout",
     "output_type": "stream",
     "text": [
      "Matrix A:\n",
      " [[1 2]\n",
      " [3 4]]\n",
      "Matrix B:\n",
      " [[5 6]\n",
      " [7 8]]\n",
      "Matrix Multiplication (A x B):\n",
      " [[19 22]\n",
      " [43 50]]\n"
     ]
    }
   ],
   "source": [
    "A = np.array([[1,2],[3,4]])\n",
    "B = np.array([[5,6],[7,8]])\n",
    "C = np.dot(A,B)\n",
    "print(\"Matrix A:\\n\", A)\n",
    "print(\"Matrix B:\\n\", B)\n",
    "print(\"Matrix Multiplication (A x B):\\n\", C)"
   ]
  },
  {
   "cell_type": "code",
   "execution_count": 25,
   "id": "e7ffc5c5",
   "metadata": {},
   "outputs": [
    {
     "name": "stdout",
     "output_type": "stream",
     "text": [
      "1\n"
     ]
    }
   ],
   "source": [
    "print(array1.ndim)"
   ]
  },
  {
   "cell_type": "code",
   "execution_count": 26,
   "id": "a9b12ca5",
   "metadata": {},
   "outputs": [
    {
     "name": "stdout",
     "output_type": "stream",
     "text": [
      "2\n"
     ]
    }
   ],
   "source": [
    "print(A.ndim)"
   ]
  },
  {
   "cell_type": "code",
   "execution_count": 23,
   "id": "fddc0d16",
   "metadata": {},
   "outputs": [],
   "source": [
    "array6=np.array([1,2,3,4,5], ndmin=2)"
   ]
  },
  {
   "cell_type": "code",
   "execution_count": 27,
   "id": "8474faf8",
   "metadata": {},
   "outputs": [
    {
     "name": "stdout",
     "output_type": "stream",
     "text": [
      "2\n"
     ]
    }
   ],
   "source": [
    "print(array6.ndim)"
   ]
  },
  {
   "cell_type": "code",
   "execution_count": 28,
   "id": "ed19934f",
   "metadata": {},
   "outputs": [
    {
     "data": {
      "text/plain": [
       "(1, 5)"
      ]
     },
     "execution_count": 28,
     "metadata": {},
     "output_type": "execute_result"
    }
   ],
   "source": [
    "array6.shape"
   ]
  },
  {
   "cell_type": "code",
   "execution_count": 29,
   "id": "d3c2d352",
   "metadata": {},
   "outputs": [
    {
     "data": {
      "text/plain": [
       "array([1, 2, 3, 4, 5])"
      ]
     },
     "execution_count": 29,
     "metadata": {},
     "output_type": "execute_result"
    }
   ],
   "source": [
    "arrex=np.array([1,2,3,4,5])\n",
    "arrex"
   ]
  },
  {
   "cell_type": "code",
   "execution_count": 30,
   "id": "6ee5005d",
   "metadata": {},
   "outputs": [
    {
     "data": {
      "text/plain": [
       "(5,)"
      ]
     },
     "execution_count": 30,
     "metadata": {},
     "output_type": "execute_result"
    }
   ],
   "source": [
    "arrex.shape"
   ]
  },
  {
   "cell_type": "code",
   "execution_count": 31,
   "id": "ff5d4dbd",
   "metadata": {},
   "outputs": [
    {
     "name": "stdout",
     "output_type": "stream",
     "text": [
      "2\n"
     ]
    }
   ],
   "source": [
    "print(A[0][1])"
   ]
  },
  {
   "cell_type": "code",
   "execution_count": 34,
   "id": "b50a925a",
   "metadata": {},
   "outputs": [
    {
     "data": {
      "text/plain": [
       "array([[1. , 2. ],\n",
       "       [3.3, 4. ]])"
      ]
     },
     "execution_count": 34,
     "metadata": {},
     "output_type": "execute_result"
    }
   ],
   "source": [
    "array7=np.array([[1,2],[3.3,4]])\n",
    "array7"
   ]
  },
  {
   "cell_type": "code",
   "execution_count": 37,
   "id": "bfd404e3",
   "metadata": {},
   "outputs": [
    {
     "data": {
      "text/plain": [
       "array(['a', 'b', 'c'], dtype='<U1')"
      ]
     },
     "execution_count": 37,
     "metadata": {},
     "output_type": "execute_result"
    }
   ],
   "source": [
    "char_arr=np.array(['a','b','c'])\n",
    "char_arr"
   ]
  },
  {
   "cell_type": "code",
   "execution_count": 38,
   "id": "70fc2d13",
   "metadata": {},
   "outputs": [
    {
     "data": {
      "text/plain": [
       "array(['supervised', 'unsupervised', 'semi-supervised', 'reinforcement'],\n",
       "      dtype='<U15')"
      ]
     },
     "execution_count": 38,
     "metadata": {},
     "output_type": "execute_result"
    }
   ],
   "source": [
    "ch_arr2=np.array([\"Supervised\",\"unSupervised\",\"sEMi-supervised\",\"reinforcement\"])\n",
    "low_arr=np.char.lower(ch_arr2)\n",
    "low_arr"
   ]
  },
  {
   "cell_type": "code",
   "execution_count": null,
   "id": "87cc669d",
   "metadata": {},
   "outputs": [],
   "source": []
  }
 ],
 "metadata": {
  "kernelspec": {
   "display_name": "Python 3 (ipykernel)",
   "language": "python",
   "name": "python3"
  },
  "language_info": {
   "codemirror_mode": {
    "name": "ipython",
    "version": 3
   },
   "file_extension": ".py",
   "mimetype": "text/x-python",
   "name": "python",
   "nbconvert_exporter": "python",
   "pygments_lexer": "ipython3",
   "version": "3.11.4"
  }
 },
 "nbformat": 4,
 "nbformat_minor": 5
}
