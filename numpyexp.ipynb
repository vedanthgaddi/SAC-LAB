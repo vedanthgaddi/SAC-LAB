{
 "cells": [
  {
   "cell_type": "code",
   "execution_count": 1,
   "id": "8d5c2c1f",
   "metadata": {},
   "outputs": [],
   "source": [
    "import numpy as np"
   ]
  },
  {
   "cell_type": "code",
   "execution_count": 2,
   "id": "59bde49f",
   "metadata": {},
   "outputs": [
    {
     "data": {
      "text/plain": [
       "'1.26.2'"
      ]
     },
     "execution_count": 2,
     "metadata": {},
     "output_type": "execute_result"
    }
   ],
   "source": [
    "np.__version__"
   ]
  },
  {
   "cell_type": "code",
   "execution_count": 3,
   "id": "2f372166",
   "metadata": {},
   "outputs": [
    {
     "data": {
      "text/plain": [
       "array([1, 2, 3])"
      ]
     },
     "execution_count": 3,
     "metadata": {},
     "output_type": "execute_result"
    }
   ],
   "source": [
    "array1=np.array([1,2,3])\n",
    "array1"
   ]
  },
  {
   "cell_type": "code",
   "execution_count": 4,
   "id": "c6669bae",
   "metadata": {},
   "outputs": [
    {
     "data": {
      "text/plain": [
       "array([[1, 2],\n",
       "       [3, 4]])"
      ]
     },
     "execution_count": 4,
     "metadata": {},
     "output_type": "execute_result"
    }
   ],
   "source": [
    "array2=np.array([[1,2],\n",
    "                 [3,4]])\n",
    "array2"
   ]
  },
  {
   "cell_type": "code",
   "execution_count": 8,
   "id": "64acf1bf",
   "metadata": {},
   "outputs": [
    {
     "data": {
      "text/plain": [
       "array([[[1, 2],\n",
       "        [3, 4]],\n",
       "\n",
       "       [[5, 6],\n",
       "        [7, 8]]])"
      ]
     },
     "execution_count": 8,
     "metadata": {},
     "output_type": "execute_result"
    }
   ],
   "source": [
    "array3d=np.array(\n",
    "                  [[\n",
    "                      [1,2],\n",
    "                      [3,4]],\n",
    "                      [\n",
    "                        [5,6],\n",
    "                        [7,8]\n",
    "                      ]\n",
    "                  ]\n",
    ")\n",
    "array3d"
   ]
  },
  {
   "cell_type": "code",
   "execution_count": 6,
   "id": "55c40690",
   "metadata": {},
   "outputs": [
    {
     "data": {
      "text/plain": [
       "(2, 2, 2)"
      ]
     },
     "execution_count": 6,
     "metadata": {},
     "output_type": "execute_result"
    }
   ],
   "source": [
    "array3d.shape"
   ]
  },
  {
   "cell_type": "code",
   "execution_count": 10,
   "id": "2347482f",
   "metadata": {},
   "outputs": [
    {
     "data": {
      "text/plain": [
       "array([[[1, 2, 3],\n",
       "        [2, 3, 4],\n",
       "        [3, 4, 5]],\n",
       "\n",
       "       [[5, 6, 7],\n",
       "        [6, 7, 8],\n",
       "        [7, 8, 9]]])"
      ]
     },
     "execution_count": 10,
     "metadata": {},
     "output_type": "execute_result"
    }
   ],
   "source": [
    "array3ex=np.array([[\n",
    "    [1,2,3],\n",
    "    [2,3,4],\n",
    "    [3,4,5]],\n",
    "    [[5,6,7],\n",
    "    [6,7,8],\n",
    "    [7,8,9]]]\n",
    ")\n",
    "array3ex"
   ]
  },
  {
   "cell_type": "code",
   "execution_count": 11,
   "id": "b586b54f",
   "metadata": {},
   "outputs": [
    {
     "data": {
      "text/plain": [
       "(2, 3, 3)"
      ]
     },
     "execution_count": 11,
     "metadata": {},
     "output_type": "execute_result"
    }
   ],
   "source": [
    "array3ex.shape"
   ]
  },
  {
   "cell_type": "code",
   "execution_count": 14,
   "id": "a902488a",
   "metadata": {},
   "outputs": [
    {
     "data": {
      "text/plain": [
       "array([[[[ 1,  2],\n",
       "         [ 2,  3],\n",
       "         [ 3,  4]],\n",
       "\n",
       "        [[ 4,  5],\n",
       "         [ 5,  6],\n",
       "         [ 6,  7]],\n",
       "\n",
       "        [[ 7,  8],\n",
       "         [ 8,  9],\n",
       "         [ 9, 10]]],\n",
       "\n",
       "\n",
       "       [[[ 1,  2],\n",
       "         [ 2,  3],\n",
       "         [ 3,  4]],\n",
       "\n",
       "        [[ 4,  5],\n",
       "         [ 5,  6],\n",
       "         [ 6,  7]],\n",
       "\n",
       "        [[ 7,  8],\n",
       "         [ 8,  9],\n",
       "         [ 9, 10]]]])"
      ]
     },
     "execution_count": 14,
     "metadata": {},
     "output_type": "execute_result"
    }
   ],
   "source": [
    "array4d=np.array([\n",
    "    [[[1,2],\n",
    "     [2,3],\n",
    "     [3,4]],\n",
    "     \n",
    "    [[4,5],\n",
    "    [5,6],\n",
    "    [6,7]],\n",
    "     \n",
    "    [[7,8],\n",
    "    [8,9],\n",
    "    [9,10]]],\n",
    "    [\n",
    "     [[1,2],\n",
    "     [2,3],\n",
    "     [3,4]],\n",
    "        \n",
    "    [[4,5],\n",
    "    [5,6],\n",
    "    [6,7]],\n",
    "        \n",
    "    [[7,8],\n",
    "    [8,9],\n",
    "    [9,10]]\n",
    "    ]\n",
    "]\n",
    ")\n",
    "array4d"
   ]
  },
  {
   "cell_type": "code",
   "execution_count": null,
   "id": "7c7368f4",
   "metadata": {},
   "outputs": [],
   "source": []
  }
 ],
 "metadata": {
  "kernelspec": {
   "display_name": "Python 3 (ipykernel)",
   "language": "python",
   "name": "python3"
  },
  "language_info": {
   "codemirror_mode": {
    "name": "ipython",
    "version": 3
   },
   "file_extension": ".py",
   "mimetype": "text/x-python",
   "name": "python",
   "nbconvert_exporter": "python",
   "pygments_lexer": "ipython3",
   "version": "3.11.4"
  }
 },
 "nbformat": 4,
 "nbformat_minor": 5
}
